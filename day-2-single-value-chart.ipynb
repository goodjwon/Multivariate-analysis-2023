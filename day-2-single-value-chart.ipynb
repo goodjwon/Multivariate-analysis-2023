{
 "cells": [
  {
   "cell_type": "code",
   "execution_count": 4,
   "id": "bcf8aa71",
   "metadata": {},
   "outputs": [],
   "source": [
    "import numpy as np\n",
    "import pandas as pd\n",
    "import matplotlib.pyplot as plt\n",
    "\n",
    "\n",
    "\n"
   ]
  },
  {
   "cell_type": "code",
   "execution_count": 10,
   "id": "de8ca04a",
   "metadata": {},
   "outputs": [
    {
     "data": {
      "text/plain": [
       "<BarContainer object of 5 artists>"
      ]
     },
     "execution_count": 10,
     "metadata": {},
     "output_type": "execute_result"
    },
    {
     "data": {
      "image/png": "[encoded data removed]",
      "text/plain": [
       "<Figure size 432x288 with 1 Axes>"
      ]
     },
     "metadata": {
      "needs_background": "light"
     },
     "output_type": "display_data"
    }
   ],
   "source": [
    "survery = pd.read_csv(\"./mva/survey.csv\")\n",
    "edu_freq = pd.crosstab(index=survery.edu, columns='count')\n",
    "edu_freq\n",
    "edu_freq.index=['none','elem','med','high','college']\n",
    "\n",
    "plt.bar(edu_freq.index, edu_freq[\"count\"])"
   ]
  },
  {
   "cell_type": "code",
   "execution_count": 11,
   "id": "9d4f48cb",
   "metadata": {},
   "outputs": [
    {
     "data": {
      "text/plain": [
       "([<matplotlib.patches.Wedge at 0x7fa5e8f294c0>,\n",
       "  <matplotlib.patches.Wedge at 0x7fa5e8f299d0>,\n",
       "  <matplotlib.patches.Wedge at 0x7fa5e8f29eb0>,\n",
       "  <matplotlib.patches.Wedge at 0x7fa5e8f353d0>,\n",
       "  <matplotlib.patches.Wedge at 0x7fa5e8f358b0>],\n",
       " [Text(1.0966090670054351, 0.08630500658402883, 'none'),\n",
       "  Text(1.0696069115358542, 0.25678990399688945, 'elem'),\n",
       "  Text(0.9379041727177269, 0.5747484343594826, 'med'),\n",
       "  Text(-0.714392857078891, 0.8364465588157198, 'high'),\n",
       "  Text(0.33991869870988073, -1.0461621663333946, 'college')])"
      ]
     },
     "execution_count": 11,
     "metadata": {},
     "output_type": "execute_result"
    },
    {
     "data": {
      "image/png": "[encoded data removed]",
      "text/plain": [
       "<Figure size 432x288 with 1 Axes>"
      ]
     },
     "metadata": {},
     "output_type": "display_data"
    }
   ],
   "source": [
    "plt.pie(edu_freq[\"count\"], labels=edu_freq.index)"
   ]
  },
  {
   "cell_type": "code",
   "execution_count": 18,
   "id": "80271c8c",
   "metadata": {},
   "outputs": [
    {
     "data": {
      "text/html": [
       "<div>\n",
       "<style scoped>\n",
       "    .dataframe tbody tr th:only-of-type {\n",
       "        vertical-align: middle;\n",
       "    }\n",
       "\n",
       "    .dataframe tbody tr th {\n",
       "        vertical-align: top;\n",
       "    }\n",
       "\n",
       "    .dataframe thead th {\n",
       "        text-align: right;\n",
       "    }\n",
       "</style>\n",
       "<table border=\"1\" class=\"dataframe\">\n",
       "  <thead>\n",
       "    <tr style=\"text-align: right;\">\n",
       "      <th>sex</th>\n",
       "      <th>1</th>\n",
       "      <th>2</th>\n",
       "    </tr>\n",
       "    <tr>\n",
       "      <th>edu</th>\n",
       "      <th></th>\n",
       "      <th></th>\n",
       "    </tr>\n",
       "  </thead>\n",
       "  <tbody>\n",
       "    <tr>\n",
       "      <th>1</th>\n",
       "      <td>1</td>\n",
       "      <td>0</td>\n",
       "    </tr>\n",
       "    <tr>\n",
       "      <th>2</th>\n",
       "      <td>1</td>\n",
       "      <td>0</td>\n",
       "    </tr>\n",
       "    <tr>\n",
       "      <th>3</th>\n",
       "      <td>1</td>\n",
       "      <td>2</td>\n",
       "    </tr>\n",
       "    <tr>\n",
       "      <th>4</th>\n",
       "      <td>13</td>\n",
       "      <td>6</td>\n",
       "    </tr>\n",
       "    <tr>\n",
       "      <th>5</th>\n",
       "      <td>11</td>\n",
       "      <td>5</td>\n",
       "    </tr>\n",
       "  </tbody>\n",
       "</table>\n",
       "</div>"
      ],
      "text/plain": [
       "sex   1  2\n",
       "edu       \n",
       "1     1  0\n",
       "2     1  0\n",
       "3     1  2\n",
       "4    13  6\n",
       "5    11  5"
      ]
     },
     "execution_count": 18,
     "metadata": {},
     "output_type": "execute_result"
    }
   ],
   "source": [
    "edu_sex_tb = pd.crosstab(index=survery.edu, columns=survery.sex)\n",
    "edu_sex_tb\n"
   ]
  },
  {
   "cell_type": "code",
   "execution_count": 24,
   "id": "b16f7ae0",
   "metadata": {},
   "outputs": [
    {
     "data": {
      "text/plain": [
       "<AxesSubplot:>"
      ]
     },
     "execution_count": 24,
     "metadata": {},
     "output_type": "execute_result"
    },
    {
     "data": {
      "image/png": "[encoded data removed]",
      "text/plain": [
       "<Figure size 432x288 with 1 Axes>"
      ]
     },
     "metadata": {
      "needs_background": "light"
     },
     "output_type": "display_data"
    }
   ],
   "source": [
    "edu_sex_tb.index = ['none','elem','med','high','college']\n",
    "edu_sex_tb.columns = [\"Male\", \"Female\"]\n",
    "edu_sex_tb\n",
    "edu_sex_tb.plot.bar(stacked=True)"
   ]
  },
  {
   "cell_type": "code",
   "execution_count": 30,
   "id": "61f06070",
   "metadata": {},
   "outputs": [
    {
     "data": {
      "text/plain": [
       "([<matplotlib.patches.Wedge at 0x7fa5c97ffe80>,\n",
       "  <matplotlib.patches.Wedge at 0x7fa5c980b370>,\n",
       "  <matplotlib.patches.Wedge at 0x7fa5c980b850>,\n",
       "  <matplotlib.patches.Wedge at 0x7fa5c980bd30>,\n",
       "  <matplotlib.patches.Wedge at 0x7fa62848a250>],\n",
       " [Text(1.0966090670054351, 0.08630500658402883, 'none'),\n",
       "  Text(1.0696069115358542, 0.25678990399688945, 'elem'),\n",
       "  Text(0.9379041727177269, 0.5747484343594826, 'med'),\n",
       "  Text(-0.714392857078891, 0.8364465588157198, 'high'),\n",
       "  Text(0.33991869870988073, -1.0461621663333946, 'college')])"
      ]
     },
     "execution_count": 30,
     "metadata": {},
     "output_type": "execute_result"
    },
    {
     "data": {
      "image/png": "[encoded data removed]",
      "text/plain": [
       "<Figure size 432x288 with 2 Axes>"
      ]
     },
     "metadata": {
      "needs_background": "light"
     },
     "output_type": "display_data"
    }
   ],
   "source": [
    "plt.figure()\n",
    "plt.subplot(121)\n",
    "plt.bar(edu_freq.index, edu_freq[\"count\"])\n",
    "plt.subplot(122)\n",
    "plt.pie(edu_freq[\"count\"], labels=edu_freq.index)"
   ]
  },
  {
   "cell_type": "code",
   "execution_count": 33,
   "id": "1c282d41",
   "metadata": {},
   "outputs": [
    {
     "data": {
      "text/plain": [
       "(array([10., 10.,  6.,  3.,  2.,  5.,  2.,  0.,  1.,  1.]),\n",
       " array([ 50. ,  79.9, 109.8, 139.7, 169.6, 199.5, 229.4, 259.3, 289.2,\n",
       "        319.1, 349. ]),\n",
       " <BarContainer object of 10 artists>)"
      ]
     },
     "execution_count": 33,
     "metadata": {},
     "output_type": "execute_result"
    },
    {
     "data": {
      "image/png": "[encoded data removed]",
      "text/plain": [
       "<Figure size 432x288 with 1 Axes>"
      ]
     },
     "metadata": {
      "needs_background": "light"
     },
     "output_type": "display_data"
    }
   ],
   "source": [
    "plt.hist(survery.salary)"
   ]
  },
  {
   "cell_type": "code",
   "execution_count": 34,
   "id": "2881ad34",
   "metadata": {},
   "outputs": [
    {
     "name": "stdout",
     "output_type": "stream",
     "text": [
      "Collecting stemgraphic\n",
      "  Downloading stemgraphic-0.9.1-py3-none-any.whl (61 kB)\n",
      "\u001b[K     |████████████████████████████████| 61 kB 1.7 MB/s eta 0:00:011\n",
      "\u001b[?25hCollecting docopt\n",
      "  Downloading docopt-0.6.2.tar.gz (25 kB)\n",
      "Requirement already satisfied: pandas in /Users/jungwonpark/opt/anaconda3/lib/python3.9/site-packages (from stemgraphic) (1.4.2)\n",
      "Requirement already satisfied: seaborn in /Users/jungwonpark/opt/anaconda3/lib/python3.9/site-packages (from stemgraphic) (0.11.2)\n",
      "Requirement already satisfied: matplotlib in /Users/jungwonpark/opt/anaconda3/lib/python3.9/site-packages (from stemgraphic) (3.5.1)\n",
      "Requirement already satisfied: packaging>=20.0 in /Users/jungwonpark/opt/anaconda3/lib/python3.9/site-packages (from matplotlib->stemgraphic) (21.3)\n",
      "Requirement already satisfied: pillow>=6.2.0 in /Users/jungwonpark/opt/anaconda3/lib/python3.9/site-packages (from matplotlib->stemgraphic) (9.0.1)\n",
      "Requirement already satisfied: cycler>=0.10 in /Users/jungwonpark/opt/anaconda3/lib/python3.9/site-packages (from matplotlib->stemgraphic) (0.11.0)\n",
      "Requirement already satisfied: fonttools>=4.22.0 in /Users/jungwonpark/opt/anaconda3/lib/python3.9/site-packages (from matplotlib->stemgraphic) (4.25.0)\n",
      "Requirement already satisfied: numpy>=1.17 in /Users/jungwonpark/opt/anaconda3/lib/python3.9/site-packages (from matplotlib->stemgraphic) (1.21.5)\n",
      "Requirement already satisfied: pyparsing>=2.2.1 in /Users/jungwonpark/opt/anaconda3/lib/python3.9/site-packages (from matplotlib->stemgraphic) (3.0.4)\n",
      "Requirement already satisfied: python-dateutil>=2.7 in /Users/jungwonpark/opt/anaconda3/lib/python3.9/site-packages (from matplotlib->stemgraphic) (2.8.2)\n",
      "Requirement already satisfied: kiwisolver>=1.0.1 in /Users/jungwonpark/opt/anaconda3/lib/python3.9/site-packages (from matplotlib->stemgraphic) (1.3.2)\n",
      "Requirement already satisfied: six>=1.5 in /Users/jungwonpark/opt/anaconda3/lib/python3.9/site-packages (from python-dateutil>=2.7->matplotlib->stemgraphic) (1.16.0)\n",
      "Requirement already satisfied: pytz>=2020.1 in /Users/jungwonpark/opt/anaconda3/lib/python3.9/site-packages (from pandas->stemgraphic) (2021.3)\n",
      "Requirement already satisfied: scipy>=1.0 in /Users/jungwonpark/opt/anaconda3/lib/python3.9/site-packages (from seaborn->stemgraphic) (1.7.3)\n",
      "Building wheels for collected packages: docopt\n",
      "  Building wheel for docopt (setup.py) ... \u001b[?25ldone\n",
      "\u001b[?25h  Created wheel for docopt: filename=docopt-0.6.2-py2.py3-none-any.whl size=13723 sha256=93ab8ce2e93814a4ad47742d17dae31fe616878ef67119beb9d56f119c17dad4\n",
      "  Stored in directory: /Users/jungwonpark/Library/Caches/pip/wheels/70/4a/46/1309fc853b8d395e60bafaf1b6df7845bdd82c95fd59dd8d2b\n",
      "Successfully built docopt\n",
      "Installing collected packages: docopt, stemgraphic\n",
      "Successfully installed docopt-0.6.2 stemgraphic-0.9.1\n",
      "Note: you may need to restart the kernel to use updated packages.\n"
     ]
    }
   ],
   "source": [
    "pip install stemgraphic"
   ]
  },
  {
   "cell_type": "code",
   "execution_count": 40,
   "id": "3b2128fd",
   "metadata": {},
   "outputs": [
    {
     "data": {
      "text/plain": [
       "(<Figure size 540x180 with 1 Axes>, <Axes:>)"
      ]
     },
     "execution_count": 40,
     "metadata": {},
     "output_type": "execute_result"
    },
    {
     "data": {
      "image/png": "[encoded data removed]",
      "text/plain": [
       "<Figure size 540x180 with 1 Axes>"
      ]
     },
     "metadata": {
      "needs_background": "light"
     },
     "output_type": "display_data"
    }
   ],
   "source": [
    "import stemgraphic as st\n",
    "st.stem_graphic(survery.salary, scale=50)"
   ]
  },
  {
   "cell_type": "code",
   "execution_count": 42,
   "id": "402f14af",
   "metadata": {},
   "outputs": [
    {
     "data": {
      "text/plain": [
       "<AxesSubplot:xlabel='sex', ylabel='salary'>"
      ]
     },
     "execution_count": 42,
     "metadata": {},
     "output_type": "execute_result"
    },
    {
     "data": {
      "image/png": "[encoded data removed]",
      "text/plain": [
       "<Figure size 432x288 with 1 Axes>"
      ]
     },
     "metadata": {
      "needs_background": "light"
     },
     "output_type": "display_data"
    }
   ],
   "source": [
    "import seaborn as sns\n",
    "sns.boxplot(x=\"sex\", y=\"salary\", data=survery)"
   ]
  }
 ],
 "metadata": {
  "kernelspec": {
   "display_name": "Python 3 (ipykernel)",
   "language": "python",
   "name": "python3"
  },
  "language_info": {
   "codemirror_mode": {
    "name": "ipython",
    "version": 3
   },
   "file_extension": ".py",
   "mimetype": "text/x-python",
   "name": "python",
   "nbconvert_exporter": "python",
   "pygments_lexer": "ipython3",
   "version": "3.9.12"
  }
 },
 "nbformat": 4,
 "nbformat_minor": 5
}
