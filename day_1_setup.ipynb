{
 "cells": [
  {
   "cell_type": "code",
   "execution_count": 22,
   "id": "43efd704",
   "metadata": {},
   "outputs": [],
   "source": [
    "import numpy as np\n",
    "import pandas as pd\n",
    "import os \n",
    "os.getcwd()\n",
    "survey = pd.read_csv(\"./mva/survey.csv\")\n"
   ]
  },
  {
   "cell_type": "code",
   "execution_count": 24,
   "id": "9f1756fd",
   "metadata": {},
   "outputs": [
    {
     "data": {
      "text/html": [
       "<div>\n",
       "<style scoped>\n",
       "    .dataframe tbody tr th:only-of-type {\n",
       "        vertical-align: middle;\n",
       "    }\n",
       "\n",
       "    .dataframe tbody tr th {\n",
       "        vertical-align: top;\n",
       "    }\n",
       "\n",
       "    .dataframe thead th {\n",
       "        text-align: right;\n",
       "    }\n",
       "</style>\n",
       "<table border=\"1\" class=\"dataframe\">\n",
       "  <thead>\n",
       "    <tr style=\"text-align: right;\">\n",
       "      <th></th>\n",
       "      <th>seq</th>\n",
       "      <th>sex</th>\n",
       "      <th>marriage</th>\n",
       "      <th>age</th>\n",
       "      <th>job</th>\n",
       "      <th>edu</th>\n",
       "      <th>salary</th>\n",
       "    </tr>\n",
       "  </thead>\n",
       "  <tbody>\n",
       "    <tr>\n",
       "      <th>0</th>\n",
       "      <td>1</td>\n",
       "      <td>1</td>\n",
       "      <td>1</td>\n",
       "      <td>21</td>\n",
       "      <td>1</td>\n",
       "      <td>4</td>\n",
       "      <td>60</td>\n",
       "    </tr>\n",
       "    <tr>\n",
       "      <th>1</th>\n",
       "      <td>2</td>\n",
       "      <td>1</td>\n",
       "      <td>1</td>\n",
       "      <td>22</td>\n",
       "      <td>5</td>\n",
       "      <td>5</td>\n",
       "      <td>100</td>\n",
       "    </tr>\n",
       "    <tr>\n",
       "      <th>2</th>\n",
       "      <td>3</td>\n",
       "      <td>1</td>\n",
       "      <td>1</td>\n",
       "      <td>33</td>\n",
       "      <td>1</td>\n",
       "      <td>4</td>\n",
       "      <td>200</td>\n",
       "    </tr>\n",
       "    <tr>\n",
       "      <th>3</th>\n",
       "      <td>4</td>\n",
       "      <td>2</td>\n",
       "      <td>2</td>\n",
       "      <td>33</td>\n",
       "      <td>7</td>\n",
       "      <td>4</td>\n",
       "      <td>120</td>\n",
       "    </tr>\n",
       "    <tr>\n",
       "      <th>4</th>\n",
       "      <td>5</td>\n",
       "      <td>1</td>\n",
       "      <td>2</td>\n",
       "      <td>28</td>\n",
       "      <td>1</td>\n",
       "      <td>4</td>\n",
       "      <td>70</td>\n",
       "    </tr>\n",
       "  </tbody>\n",
       "</table>\n",
       "</div>"
      ],
      "text/plain": [
       "   seq  sex  marriage  age  job  edu  salary\n",
       "0    1    1         1   21    1    4      60\n",
       "1    2    1         1   22    5    5     100\n",
       "2    3    1         1   33    1    4     200\n",
       "3    4    2         2   33    7    4     120\n",
       "4    5    1         2   28    1    4      70"
      ]
     },
     "execution_count": 24,
     "metadata": {},
     "output_type": "execute_result"
    }
   ],
   "source": [
    "survey.head()"
   ]
  },
  {
   "cell_type": "code",
   "execution_count": 26,
   "id": "c09d3fbd",
   "metadata": {},
   "outputs": [
    {
     "data": {
      "text/plain": [
       "'mon'"
      ]
     },
     "execution_count": 26,
     "metadata": {},
     "output_type": "execute_result"
    }
   ],
   "source": [
    "#list slcing\n",
    "weekdays = ['mon', 'tues', 'wed', 'thurs', 'fir']\n",
    "weekdays[0]"
   ]
  },
  {
   "cell_type": "code",
   "execution_count": 27,
   "id": "abf9837d",
   "metadata": {},
   "outputs": [
    {
     "data": {
      "text/plain": [
       "['mon', 'tues', 'wed']"
      ]
     },
     "execution_count": 27,
     "metadata": {},
     "output_type": "execute_result"
    }
   ],
   "source": [
    "weekdays[0:3]"
   ]
  },
  {
   "cell_type": "code",
   "execution_count": 28,
   "id": "fb582928",
   "metadata": {},
   "outputs": [
    {
     "data": {
      "text/plain": [
       "'fir'"
      ]
     },
     "execution_count": 28,
     "metadata": {},
     "output_type": "execute_result"
    }
   ],
   "source": [
    "weekdays[-1]"
   ]
  },
  {
   "cell_type": "code",
   "execution_count": 29,
   "id": "9c6f735e",
   "metadata": {},
   "outputs": [
    {
     "data": {
      "text/plain": [
       "['mon', 'wed', 'fir']"
      ]
     },
     "execution_count": 29,
     "metadata": {},
     "output_type": "execute_result"
    }
   ],
   "source": [
    "weekdays[::2]"
   ]
  },
  {
   "cell_type": "code",
   "execution_count": 30,
   "id": "82c3bc8c",
   "metadata": {},
   "outputs": [
    {
     "data": {
      "text/plain": [
       "['fir', 'thurs', 'wed', 'tues', 'mon']"
      ]
     },
     "execution_count": 30,
     "metadata": {},
     "output_type": "execute_result"
    }
   ],
   "source": [
    "weekdays[::-1]"
   ]
  },
  {
   "cell_type": "code",
   "execution_count": 32,
   "id": "469ed3be",
   "metadata": {},
   "outputs": [],
   "source": [
    "## tuple\n",
    "digits = (0,1,'two')"
   ]
  },
  {
   "cell_type": "code",
   "execution_count": 33,
   "id": "5c1ac486",
   "metadata": {},
   "outputs": [],
   "source": [
    "family={'dad':'hommer'}"
   ]
  },
  {
   "cell_type": "code",
   "execution_count": null,
   "id": "a4cfc818",
   "metadata": {},
   "outputs": [],
   "source": [
    "#if\n",
    "#for\n",
    "#while"
   ]
  },
  {
   "cell_type": "code",
   "execution_count": 35,
   "id": "6d15b06a",
   "metadata": {},
   "outputs": [],
   "source": [
    "#functions\n",
    "def min_max(nums):\n",
    "    return min(nums), max(nums)"
   ]
  },
  {
   "cell_type": "markdown",
   "id": "38839874",
   "metadata": {},
   "source": [
    "min_max([1,2,3,4,5])"
   ]
  },
  {
   "cell_type": "code",
   "execution_count": 36,
   "id": "c1fc0f0c",
   "metadata": {},
   "outputs": [
    {
     "data": {
      "text/plain": [
       "(1, 5)"
      ]
     },
     "execution_count": 36,
     "metadata": {},
     "output_type": "execute_result"
    }
   ],
   "source": [
    "min_max([1,2,3,4,5])"
   ]
  }
 ],
 "metadata": {
  "kernelspec": {
   "display_name": "Python 3 (ipykernel)",
   "language": "python",
   "name": "python3"
  },
  "language_info": {
   "codemirror_mode": {
    "name": "ipython",
    "version": 3
   },
   "file_extension": ".py",
   "mimetype": "text/x-python",
   "name": "python",
   "nbconvert_exporter": "python",
   "pygments_lexer": "ipython3",
   "version": "3.9.12"
  }
 },
 "nbformat": 4,
 "nbformat_minor": 5
}
