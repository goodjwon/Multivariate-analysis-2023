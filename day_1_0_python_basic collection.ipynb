{
 "cells": [
  {
   "cell_type": "code",
   "execution_count": 3,
   "id": "4390ae0e",
   "metadata": {},
   "outputs": [
    {
     "name": "stdout",
     "output_type": "stream",
     "text": [
      "(1, 2, 3, 4, 'Test')\n"
     ]
    },
    {
     "data": {
      "text/plain": [
       "tuple"
      ]
     },
     "execution_count": 3,
     "metadata": {},
     "output_type": "execute_result"
    }
   ],
   "source": [
    "# Tuples\n",
    "mytuple = (1,2,3,4,'Test')\n",
    "print(mytuple)\n",
    "type(mytuple)"
   ]
  },
  {
   "cell_type": "code",
   "execution_count": 6,
   "id": "e3354331",
   "metadata": {},
   "outputs": [
    {
     "name": "stdout",
     "output_type": "stream",
     "text": [
      "[1, 2, 3, 4, 5, 6]\n"
     ]
    },
    {
     "data": {
      "text/plain": [
       "list"
      ]
     },
     "execution_count": 6,
     "metadata": {},
     "output_type": "execute_result"
    }
   ],
   "source": [
    "#List\n",
    "mylist = [1,2,3,4,5,6]\n",
    "print(mylist)\n",
    "type(mylist)"
   ]
  },
  {
   "cell_type": "code",
   "execution_count": 9,
   "id": "494e95df",
   "metadata": {},
   "outputs": [
    {
     "name": "stdout",
     "output_type": "stream",
     "text": [
      "{'Nmae': 'Jwon', 'Age': 46}\n"
     ]
    },
    {
     "data": {
      "text/plain": [
       "dict"
      ]
     },
     "execution_count": 9,
     "metadata": {},
     "output_type": "execute_result"
    }
   ],
   "source": [
    "#Dictionary\n",
    "mydict = {'Nmae':'Jwon', 'Age': 46}\n",
    "print(mydict)\n",
    "type(mydict)"
   ]
  },
  {
   "cell_type": "code",
   "execution_count": 13,
   "id": "8484fc63",
   "metadata": {},
   "outputs": [
    {
     "data": {
      "text/plain": [
       "[23, 45]"
      ]
     },
     "execution_count": 13,
     "metadata": {},
     "output_type": "execute_result"
    }
   ],
   "source": [
    "# empty list\n",
    "empty=[]\n",
    "empty.append(23)\n",
    "empty.append(45)\n",
    "empty"
   ]
  },
  {
   "cell_type": "code",
   "execution_count": 27,
   "id": "3b01c094",
   "metadata": {},
   "outputs": [
    {
     "data": {
      "text/plain": [
       "['wed', 'tues', 'thurs', 'mon', 'fri']"
      ]
     },
     "execution_count": 27,
     "metadata": {},
     "output_type": "execute_result"
    }
   ],
   "source": [
    "weekdays = ['mon','tues','wed','thurs','fri']\n",
    "weekdays[0]\n",
    "weekdays[0:3]\n",
    "weekdays[:3]\n",
    "weekdays[3:]\n",
    "weekdays[-1]\n",
    "weekdays[::2]\n",
    "weekdays[::-1]\n",
    "\n",
    "weekdays.sort()\n",
    "weekdays.sort(reverse=True)\n",
    "weekdays"
   ]
  },
  {
   "cell_type": "code",
   "execution_count": 41,
   "id": "66584df4",
   "metadata": {},
   "outputs": [
    {
     "data": {
      "text/plain": [
       "1"
      ]
     },
     "execution_count": 41,
     "metadata": {},
     "output_type": "execute_result"
    }
   ],
   "source": [
    "digits = (0,1,'two')\n",
    "digits\n",
    "digits = tuple([0,1,'two'])\n",
    "digits[2]\n",
    "len(digits)\n",
    "digits.count(0)\n",
    "digits.index(1)\n"
   ]
  },
  {
   "cell_type": "code",
   "execution_count": 50,
   "id": "90811abe",
   "metadata": {},
   "outputs": [
    {
     "data": {
      "text/plain": [
       "False"
      ]
     },
     "execution_count": 50,
     "metadata": {},
     "output_type": "execute_result"
    }
   ],
   "source": [
    "family = {'dad':'homer', 'mom':'marge', 'size':6}\n",
    "family\n",
    "family = dict(dad='homer', mom='marge', size=6)\n",
    "family['dad']\n",
    "len(family)\n",
    "family.keys()\n",
    "family.values()\n",
    "'mom' in family\n",
    "'marge' in family"
   ]
  },
  {
   "cell_type": "code",
   "execution_count": 59,
   "id": "5c583396",
   "metadata": {},
   "outputs": [
    {
     "data": {
      "text/plain": [
       "{'cobra', 'viper'}"
      ]
     },
     "execution_count": 59,
     "metadata": {},
     "output_type": "execute_result"
    }
   ],
   "source": [
    "languages = {'python', 'r', 'java'} # create a set directly\n",
    "snakes = set(['cobra', 'viper', 'python']) # create a set from a list\n",
    "\n",
    "len(languages) # returns 3\n",
    "'python' in languages # returns True\n",
    "\n",
    "languages & snakes # returns intersection: {'python'}\n",
    "languages | snakes #\n",
    "languages - snakes\n",
    "snakes - languages "
   ]
  }
 ],
 "metadata": {
  "kernelspec": {
   "display_name": "Python 3 (ipykernel)",
   "language": "python",
   "name": "python3"
  },
  "language_info": {
   "codemirror_mode": {
    "name": "ipython",
    "version": 3
   },
   "file_extension": ".py",
   "mimetype": "text/x-python",
   "name": "python",
   "nbconvert_exporter": "python",
   "pygments_lexer": "ipython3",
   "version": "3.9.12"
  }
 },
 "nbformat": 4,
 "nbformat_minor": 5
}
