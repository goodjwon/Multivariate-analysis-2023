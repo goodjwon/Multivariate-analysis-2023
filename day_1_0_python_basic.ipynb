{
 "cells": [
  {
   "cell_type": "code",
   "execution_count": 5,
   "id": "040c4c27",
   "metadata": {},
   "outputs": [
    {
     "data": {
      "text/plain": [
       "5.0"
      ]
     },
     "execution_count": 5,
     "metadata": {},
     "output_type": "execute_result"
    }
   ],
   "source": [
    "import math\n",
    "math.sqrt(25)"
   ]
  },
  {
   "cell_type": "code",
   "execution_count": 6,
   "id": "1e15f6fe",
   "metadata": {},
   "outputs": [
    {
     "data": {
      "text/plain": [
       "5.0"
      ]
     },
     "execution_count": 6,
     "metadata": {},
     "output_type": "execute_result"
    }
   ],
   "source": [
    "from math import sqrt\n",
    "sqrt(25)"
   ]
  },
  {
   "cell_type": "code",
   "execution_count": 24,
   "id": "f87040b4",
   "metadata": {},
   "outputs": [
    {
     "name": "stdout",
     "output_type": "stream",
     "text": [
      "['reg2020', '.DS_Store', 'day_1_0_python_basic.ipynb', 'day_1_setup.ipynb', 'Untitled.ipynb', 'Multivariate analysis 2023.Rproj', 'day1_setup.R', '.gitignore', 'exercise', 'mva', '.ipynb_checkpoints', '.git', '.Rproj.user', 'pgm', '.idea']\n",
      "    DAY  MAXST  MINST  AVST  MAXAT  MINAT  AVAT  EVAP\n",
      "0     6     84     65   147     85     59   151    30\n",
      "1     7     84     65   149     86     61   159    34\n",
      "2     8     79     66   142     83     64   152    33\n",
      "3     9     81     67   147     83     65   158    26\n",
      "4    10     84     68   167     88     69   180    41\n",
      "5    11     74     66   131     77     67   147     4\n",
      "6    12     73     66   131     78     69   159     5\n",
      "7    13     75     67   134     84     68   159    20\n",
      "8    14     84     68   161     89     71   195    31\n",
      "9    15     86     72   169     91     76   206    38\n",
      "10   16     88     73   178     91     76   208    43\n",
      "11   17     90     74   187     94     76   211    47\n",
      "12   18     88     72   171     94     75   211    45\n",
      "13   19     88     72   171     92     70   201    45\n",
      "14   20     81     69   154     87     68   167    11\n",
      "15   21     79     68   149     83     68   162    10\n",
      "16   22     84     69   160     87     66   173    30\n",
      "17   23     84     70   160     87     68   177    29\n",
      "18   24     84     70   168     88     70   169    23\n",
      "19   25     77     67   147     83     66   170    16\n",
      "20   26     87     67   166     92     67   196    37\n",
      "21   27     89     69   171     92     72   199    50\n",
      "22   28     89     72   180     94     72   204    36\n",
      "23   29     93     72   186     92     73   201    54\n",
      "24   30     93     74   188     93     72   206    44\n"
     ]
    }
   ],
   "source": [
    "from math import cos, floor\n",
    "import os\n",
    "\n",
    "os.getcwd()\n",
    "os.chdir('/Users/jungwonpark/PycharmProjects/Multivariate analysis 2023')\n",
    "\n",
    "import pandas as pd\n",
    "bmi = pd.read_csv(\"reg2020/p114.csv\")\n",
    "\n",
    "listDir = os.listdir()\n",
    "print(listDir)\n",
    "print(bmi)\n"
   ]
  },
  {
   "cell_type": "code",
   "execution_count": 15,
   "id": "8349cb61",
   "metadata": {},
   "outputs": [
    {
     "name": "stdout",
     "output_type": "stream",
     "text": [
      "\n",
      "Please wait a moment while I gather a list of all available modules...\n",
      "\n"
     ]
    },
    {
     "name": "stderr",
     "output_type": "stream",
     "text": [
      "WARNING: AstropyDeprecationWarning: The private astropy._erfa module has been made into its own package, pyerfa, which is a dependency of astropy and can be imported directly using \"import erfa\" [astropy._erfa]\n",
      "/Users/jungwonpark/opt/anaconda3/lib/python3.9/site-packages/nltk/twitter/__init__.py:20: UserWarning: The twython library has not been installed. Some functionality from the twitter package will not be available.\n",
      "  warnings.warn(\n",
      "/Users/jungwonpark/opt/anaconda3/lib/python3.9/site-packages/_distutils_hack/__init__.py:30: UserWarning: Setuptools is replacing distutils.\n",
      "  warnings.warn(\"Setuptools is replacing distutils.\")\n",
      "No QCoreApplication instance found. Application patches not applied. You have to call load_stylesheet function after instantiation of QApplication to take effect. \n"
     ]
    },
    {
     "name": "stdout",
     "output_type": "stream",
     "text": [
      "Cython              builtins            jupyter_nbextensions_configurator repo_cli\n",
      "FinanceDataReader   bz2                 jupyter_server      reprlib\n",
      "IPython             cProfile            jupyterlab          requests\n",
      "OpenSSL             cachetools          jupyterlab_plotly   requests_file\n",
      "PIL                 calendar            jupyterlab_pygments resource\n",
      "PyQt5               certifi             jupyterlab_server   rlcompleter\n",
      "TBB                 cffi                jupyterlab_widgets  rope\n",
      "__future__          cgi                 jwt                 rsa\n",
      "_abc                cgitb               keyring             rtree\n",
      "_aix_support        chardet             keyword             ruamel_yaml\n",
      "_argon2_cffi_bindings charset_normalizer  kiwisolver          runpy\n",
      "_ast                chunk               latex_envs          s3transfer\n",
      "_asyncio            click               lazy_object_proxy   sched\n",
      "_bisect             cloudpickle         lib2to3             scipy\n",
      "_black_version      clyent              libarchive          scrapy\n",
      "_blake2             cmath               libfuturize         seaborn\n",
      "_bootlocale         cmd                 libpasteurize       secrets\n",
      "_bootsubprocess     code                lief                select\n",
      "_bz2                codecs              linecache           selectors\n",
      "_cffi_backend       codeop              llvmlite            send2trash\n",
      "_codecs             collections         locale              service_identity\n",
      "_codecs_cn          colorama            locket              setuptools\n",
      "_codecs_hk          colorcet            logging             shelve\n",
      "_codecs_iso2022     colorsys            lxml                shlex\n",
      "_codecs_jp          compileall          lzma                shutil\n",
      "_codecs_kr          concurrent          mactypes            signal\n",
      "_codecs_tw          conda               mailbox             sip\n",
      "_collections        conda_build         mailcap             sipconfig\n",
      "_collections_abc    conda_content_trust markdown            sipdistutils\n",
      "_compat_pickle      conda_env           markupsafe          site\n",
      "_compression        conda_pack          marshal             six\n",
      "_contextvars        conda_package_handling math                skimage\n",
      "_crypt              conda_token         matplotlib          sklearn\n",
      "_csv                conda_verify        matplotlib_inline   sklearnex\n",
      "_ctypes             configparser        mccabe              slugify\n",
      "_ctypes_test        constantly          mimetypes           smart_open\n",
      "_curses             contextlib          mistune             smtpd\n",
      "_curses_panel       contextvars         mkl                 smtplib\n",
      "_datetime           cookiecutter        mkl_fft             snappy\n",
      "_dbm                copy                mkl_random          sndhdr\n",
      "_decimal            copyreg             mmap                sniffio\n",
      "_distutils_hack     crypt               mock                snowballstemmer\n",
      "_elementtree        cryptography        modulefinder        socket\n",
      "_functools          cssselect           mpmath              socketserver\n",
      "_hashlib            csv                 msgpack             socks\n",
      "_heapq              ctypes              multidict           sockshandler\n",
      "_imp                curl                multipledispatch    sortedcollections\n",
      "_io                 curses              multiprocessing     sortedcontainers\n",
      "_json               cycler              munkres             soupsieve\n",
      "_locale             cython              mypy_extensions     sphinx\n",
      "_lsprof             cytoolz             navigator_updater   spyder\n",
      "_lzma               daal4py             nbclassic           spyder_kernels\n",
      "_markupbase         dask                nbclient            sqlalchemy\n",
      "_md5                dataclasses         nbconvert           sqlite3\n",
      "_multibytecodec     datashader          nbformat            sre_compile\n",
      "_multiprocessing    datashape           nest_asyncio        sre_constants\n",
      "_opcode             datetime            netrc               sre_parse\n",
      "_operator           dateutil            networkx            ssl\n",
      "_osx_support        dbm                 nis                 stack_data\n",
      "_peg_parser         debugpy             nltk                stat\n",
      "_pickle             decimal             nntplib             statistics\n",
      "_plotly_future_     decorator           nose                statsmodels\n",
      "_plotly_utils       defusedxml          notebook            string\n",
      "_posixshmem         diff_match_patch    ntpath              stringprep\n",
      "_posixsubprocess    difflib             nturl2path          struct\n",
      "_py_abc             dis                 numba               subprocess\n",
      "_pydecimal          distributed         numbergen           sunau\n",
      "_pyio               distutils           numbers             symbol\n",
      "_pyrsistent_version doctest             numexpr             sympy\n",
      "_pytest             docutils            numpy               symtable\n",
      "_queue              email               numpydoc            sys\n",
      "_random             encodings           olefile             sysconfig\n",
      "_ruamel_yaml        ensurepip           onedal              syslog\n",
      "_scproxy            entrypoints         opcode              tables\n",
      "_sha1               enum                openpyxl            tabnanny\n",
      "_sha256             erfa                operator            tabulate\n",
      "_sha3               errno               optparse            tarfile\n",
      "_sha512             et_xmlfile          os                  tbb\n",
      "_signal             executing           osax                tblib\n",
      "_sitebuiltins       fastjsonschema      packaging           telnetlib\n",
      "_socket             faulthandler        pandas              tempfile\n",
      "_sqlite3            fcntl               pandocfilters       tenacity\n",
      "_sre                filecmp             panel               terminado\n",
      "_ssl                fileinput           param               termios\n",
      "_stat               filelock            parsel              test\n",
      "_statistics         flake8              parser              test_pycosat\n",
      "_string             flask               parso               testpath\n",
      "_strptime           fnmatch             partd               text_unidecode\n",
      "_struct             fontTools           past                textdistance\n",
      "_symtable           formatter           pathlib             textwrap\n",
      "_sysconfigdata__darwin_darwin fractions           pathspec            this\n",
      "_sysconfigdata_x86_64_apple_darwin13_4_0 frozenlist          patsy               threading\n",
      "_testbuffer         fsspec              pdb                 threadpoolctl\n",
      "_testcapi           ftplib              pep8                three_merge\n",
      "_testimportmultiple functools           pexpect             tifffile\n",
      "_testinternalcapi   future              pickle              time\n",
      "_testmultiphase     gc                  pickleshare         timeit\n",
      "_thread             genericpath         pickletools         tinycss\n",
      "_threading_local    gensim              pip                 tkinter\n",
      "_tkinter            getopt              pipes               tldextract\n",
      "_tracemalloc        getpass             pkg_resources       tlz\n",
      "_uuid               gettext             pkginfo             token\n",
      "_warnings           glob                pkgutil             tokenize\n",
      "_watchdog_fsevents  glob2               platform            toml\n",
      "_weakref            gmpy2               plistlib            tomli\n",
      "_weakrefset         google_crc32c       plotly              toolz\n",
      "_xxsubinterpreters  graphlib            pluggy              tornado\n",
      "_xxtestfuzz         greenlet            poplib              tqdm\n",
      "_yaml               grp                 posix               trace\n",
      "_zoneinfo           grpc                posixpath           traceback\n",
      "abc                 gzip                poyo                tracemalloc\n",
      "aem                 h5py                pprint              traitlets\n",
      "aifc                hamcrest            profile             tty\n",
      "aiohttp             hashlib             prometheus_client   turtle\n",
      "aiosignal           heapdict            prompt_toolkit      turtledemo\n",
      "alabaster           heapq               protego             twisted\n",
      "anaconda_navigator  hmac                pstats              typed_ast\n",
      "anaconda_project    holoviews           psutil              types\n",
      "antigravity         html                pty                 typing\n",
      "anyio               http                ptyprocess          typing_extensions\n",
      "appdirs             hvplot              pure_eval           ujson\n",
      "applaunchservices   hyperlink           pvectorc            unicodedata\n",
      "appnope             idlelib             pwd                 unidecode\n",
      "appscript           idna                py                  unittest\n",
      "argon2              imagecodecs         py_compile          urllib\n",
      "argparse            imageio             pyasn1              urllib3\n",
      "array               imagesize           pyasn1_modules      uu\n",
      "arrow               imaplib             pyclbr              uuid\n",
      "ast                 imghdr              pycodestyle         venv\n",
      "astroid             imp                 pycosat             w3lib\n",
      "astropy             importlib           pycparser           warnings\n",
      "asttokens           importlib_metadata  pyct                watchdog\n",
      "async_timeout       incremental         pycurl              wave\n",
      "asynchat            inflection          pydispatch          wcwidth\n",
      "asyncio             iniconfig           pydoc               weakref\n",
      "asyncore            inspect             pydoc_data          webbrowser\n",
      "atexit              intake              pydocstyle          webencodings\n",
      "atomicwrites        intervaltree        pyexpat             websocket\n",
      "attr                io                  pyflakes            werkzeug\n",
      "attrs               ipaddress           pygments            wheel\n",
      "audioop             ipykernel           pylab               widgetsnbextension\n",
      "automat             ipykernel_launcher  pylint              wrapt\n",
      "autopep8            ipython_genutils    pyls_spyder         wsgiref\n",
      "babel               ipywidgets          pylsp               wurlitzer\n",
      "backcall            isort               pylsp_black         xarray\n",
      "backports           isympy              pylsp_jsonrpc       xdrlib\n",
      "base64              itemadapter         pyodbc              xlrd\n",
      "bcrypt              itemloaders         pyparsing           xlsxwriter\n",
      "bdb                 itertools           pyrsistent          xlwings\n",
      "binaryornot         itsdangerous        pytest              xml\n",
      "binascii            jdcal               pytz                xmlrpc\n",
      "binhex              jedi                pyviz_comms         xxlimited\n",
      "binstar_client      jinja2              pywt                xxsubtype\n",
      "bisect              jinja2_time         pyximport           yaml\n",
      "bitarray            jmespath            qdarkstyle          yapf\n",
      "bkcharts            joblib              qstylizer           yapftests\n",
      "black               json                qtawesome           yarl\n",
      "blackd              json5               qtconsole           zict\n",
      "bleach              jsonschema          qtpy                zipapp\n",
      "blib2to3            jupyter             queue               zipfile\n",
      "bokeh               jupyter_client      queuelib            zipimport\n",
      "boto3               jupyter_console     quopri              zipp\n",
      "botocore            jupyter_contrib_core random              zlib\n",
      "bottleneck          jupyter_contrib_nbextensions re                  zmq\n",
      "brotli              jupyter_core        readline            zoneinfo\n",
      "bs4                 jupyter_highlight_selected_word regex               zope\n",
      "\n",
      "Enter any module name to get more help.  Or, type \"modules spam\" to search\n",
      "for modules whose name or summary contain the string \"spam\".\n",
      "\n"
     ]
    },
    {
     "name": "stderr",
     "output_type": "stream",
     "text": [
      "/Users/jungwonpark/opt/anaconda3/lib/python3.9/pkgutil.py:108: VisibleDeprecationWarning:\n",
      "\n",
      "zmq.eventloop.minitornado is deprecated in pyzmq 14.0 and will be removed.\n",
      "    Install tornado itself to use zmq with the tornado IOLoop.\n",
      "    \n",
      "\n"
     ]
    }
   ],
   "source": [
    "help(\"modules\")"
   ]
  },
  {
   "cell_type": "code",
   "execution_count": 26,
   "id": "0f23c7a9",
   "metadata": {},
   "outputs": [
    {
     "data": {
      "text/plain": [
       "1000"
      ]
     },
     "execution_count": 26,
     "metadata": {},
     "output_type": "execute_result"
    }
   ],
   "source": [
    "10**3"
   ]
  },
  {
   "cell_type": "code",
   "execution_count": 29,
   "id": "0b3cdce5",
   "metadata": {},
   "outputs": [
    {
     "data": {
      "text/plain": [
       "2.5"
      ]
     },
     "execution_count": 29,
     "metadata": {},
     "output_type": "execute_result"
    }
   ],
   "source": [
    "10/float(4)"
   ]
  },
  {
   "cell_type": "code",
   "execution_count": 33,
   "id": "c742aeb7",
   "metadata": {},
   "outputs": [
    {
     "data": {
      "text/plain": [
       "3"
      ]
     },
     "execution_count": 33,
     "metadata": {},
     "output_type": "execute_result"
    }
   ],
   "source": [
    "7%4"
   ]
  },
  {
   "cell_type": "code",
   "execution_count": 35,
   "id": "e9153d79",
   "metadata": {},
   "outputs": [
    {
     "data": {
      "text/plain": [
       "1"
      ]
     },
     "execution_count": 35,
     "metadata": {},
     "output_type": "execute_result"
    }
   ],
   "source": [
    "7//4"
   ]
  },
  {
   "cell_type": "markdown",
   "id": "632e3f12",
   "metadata": {},
   "source": [
    "10//4\n"
   ]
  },
  {
   "cell_type": "code",
   "execution_count": 27,
   "id": "e819a37e",
   "metadata": {},
   "outputs": [
    {
     "data": {
      "text/plain": [
       "2.5"
      ]
     },
     "execution_count": 27,
     "metadata": {},
     "output_type": "execute_result"
    }
   ],
   "source": [
    "10/4"
   ]
  },
  {
   "cell_type": "code",
   "execution_count": 38,
   "id": "eefeb38c",
   "metadata": {},
   "outputs": [
    {
     "data": {
      "text/plain": [
       "True"
      ]
     },
     "execution_count": 38,
     "metadata": {},
     "output_type": "execute_result"
    }
   ],
   "source": [
    "5>3"
   ]
  },
  {
   "cell_type": "code",
   "execution_count": 39,
   "id": "2fd150d3",
   "metadata": {},
   "outputs": [
    {
     "data": {
      "text/plain": [
       "True"
      ]
     },
     "execution_count": 39,
     "metadata": {},
     "output_type": "execute_result"
    }
   ],
   "source": [
    "4>=3"
   ]
  },
  {
   "cell_type": "code",
   "execution_count": 40,
   "id": "6bb4822c",
   "metadata": {},
   "outputs": [
    {
     "data": {
      "text/plain": [
       "True"
      ]
     },
     "execution_count": 40,
     "metadata": {},
     "output_type": "execute_result"
    }
   ],
   "source": [
    "3>2"
   ]
  },
  {
   "cell_type": "code",
   "execution_count": 41,
   "id": "79535d8b",
   "metadata": {},
   "outputs": [
    {
     "data": {
      "text/plain": [
       "True"
      ]
     },
     "execution_count": 41,
     "metadata": {},
     "output_type": "execute_result"
    }
   ],
   "source": [
    "5==5"
   ]
  },
  {
   "cell_type": "code",
   "execution_count": 49,
   "id": "ecf589c4",
   "metadata": {},
   "outputs": [
    {
     "ename": "SyntaxError",
     "evalue": "invalid syntax (2124315283.py, line 1)",
     "output_type": "error",
     "traceback": [
      "\u001b[0;36m  Input \u001b[0;32mIn [49]\u001b[0;36m\u001b[0m\n\u001b[0;31m    5>3 and 6>35>3 or 5<3 not False\u001b[0m\n\u001b[0m                              ^\u001b[0m\n\u001b[0;31mSyntaxError\u001b[0m\u001b[0;31m:\u001b[0m invalid syntax\n"
     ]
    }
   ],
   "source": [
    "5>3 and 6>35>3 or 5<3 not False"
   ]
  },
  {
   "cell_type": "code",
   "execution_count": 55,
   "id": "79b84792",
   "metadata": {},
   "outputs": [
    {
     "data": {
      "text/plain": [
       "NoneType"
      ]
     },
     "execution_count": 55,
     "metadata": {},
     "output_type": "execute_result"
    }
   ],
   "source": [
    "type(2)\n",
    "type(2.0)\n",
    "type('two')\n",
    "type(True)\n",
    "type(None)"
   ]
  },
  {
   "cell_type": "code",
   "execution_count": 59,
   "id": "b025ef78",
   "metadata": {},
   "outputs": [
    {
     "data": {
      "text/plain": [
       "False"
      ]
     },
     "execution_count": 59,
     "metadata": {},
     "output_type": "execute_result"
    }
   ],
   "source": [
    "isinstance(2.0, int)\n",
    "isinstance(2, float)"
   ]
  },
  {
   "cell_type": "code",
   "execution_count": 62,
   "id": "8b2722cb",
   "metadata": {},
   "outputs": [
    {
     "data": {
      "text/plain": [
       "'2.9'"
      ]
     },
     "execution_count": 62,
     "metadata": {},
     "output_type": "execute_result"
    }
   ],
   "source": [
    "float(2)\n",
    "int(2.9)\n",
    "str(2.9)"
   ]
  },
  {
   "cell_type": "code",
   "execution_count": 68,
   "id": "20f17a32",
   "metadata": {},
   "outputs": [
    {
     "data": {
      "text/plain": [
       "False"
      ]
     },
     "execution_count": 68,
     "metadata": {},
     "output_type": "execute_result"
    }
   ],
   "source": [
    "bool(0)\n",
    "bool(None)\n",
    "bool('')\n",
    "bool([])\n",
    "bool({})"
   ]
  }
 ],
 "metadata": {
  "kernelspec": {
   "display_name": "Python 3 (ipykernel)",
   "language": "python",
   "name": "python3"
  },
  "language_info": {
   "codemirror_mode": {
    "name": "ipython",
    "version": 3
   },
   "file_extension": ".py",
   "mimetype": "text/x-python",
   "name": "python",
   "nbconvert_exporter": "python",
   "pygments_lexer": "ipython3",
   "version": "3.9.12"
  }
 },
 "nbformat": 4,
 "nbformat_minor": 5
}
